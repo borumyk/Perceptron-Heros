{
 "cells": [
  {
   "cell_type": "markdown",
   "metadata": {},
   "source": [
    "# 1. Dependencies"
   ]
  },
  {
   "cell_type": "code",
   "execution_count": 8,
   "metadata": {},
   "outputs": [],
   "source": [
    "import cv2\n",
    "import re\n",
    "import numpy as np\n",
    "import os\n",
    "from matplotlib import pyplot as plt\n",
    "import time\n",
    "import mediapipe as mp  \n",
    "from sklearn.model_selection import train_test_split\n",
    "from tensorflow.keras.utils import to_categorical"
   ]
  },
  {
   "cell_type": "markdown",
   "metadata": {},
   "source": [
    "# 2. Functions"
   ]
  },
  {
   "cell_type": "code",
   "execution_count": 2,
   "metadata": {},
   "outputs": [],
   "source": [
    "mp_holistic = mp.solutions.holistic # bringing the holstic model\n",
    "mp_drawing = mp.solutions.drawing_utils # drawing utilities\n",
    "\n",
    "def mediapipe_detection(image, model):\n",
    "    image = cv2.cvtColor(image, cv2.COLOR_BGR2RGB) # COLOR CONVERSION BGR 2 RGB\n",
    "    image.flags.writeable = False                  # Image is no longer writeable\n",
    "    results = model.process(image)                 # Make prediction - detecting using mediapipe\n",
    "    image.flags.writeable = True                   # Image is now writeable \n",
    "    image = cv2.cvtColor(image, cv2.COLOR_RGB2BGR) # COLOR COVERSION RGB 2 BGR\n",
    "    return image, results\n",
    "\n",
    "def draw_landmarks(image, results):\n",
    "    mp_drawing.draw_landmarks(image, results.face_landmarks, mp_holistic.FACEMESH_TESSELATION) # Draw face connections\n",
    "    mp_drawing.draw_landmarks(image, results.pose_landmarks, mp_holistic.POSE_CONNECTIONS) # Draw pose connections\n",
    "    mp_drawing.draw_landmarks(image, results.left_hand_landmarks, mp_holistic.HAND_CONNECTIONS) # Draw left hand connections\n",
    "    mp_drawing.draw_landmarks(image, results.right_hand_landmarks, mp_holistic.HAND_CONNECTIONS) # Draw right hand connections\n",
    "    \n",
    "# CAN CHANGE THE COLOURS OF THESE TO MAKE IT DIFFERENT \n",
    "def draw_styled_landmarks(image, results):\n",
    "    # Draw face connections\n",
    "    mp_drawing.draw_landmarks(image, results.face_landmarks, mp_holistic.FACEMESH_TESSELATION, \n",
    "                             mp_drawing.DrawingSpec(color=(80,110,10), thickness=1, circle_radius=1), \n",
    "                             mp_drawing.DrawingSpec(color=(80,256,121), thickness=1, circle_radius=1)\n",
    "                             ) \n",
    "    # Draw pose connections\n",
    "    mp_drawing.draw_landmarks(image, results.pose_landmarks, mp_holistic.POSE_CONNECTIONS,\n",
    "                             mp_drawing.DrawingSpec(color=(80,22,10), thickness=2, circle_radius=4), \n",
    "                             mp_drawing.DrawingSpec(color=(80,44,121), thickness=2, circle_radius=2)\n",
    "                             ) \n",
    "    # Draw left hand connections\n",
    "    mp_drawing.draw_landmarks(image, results.left_hand_landmarks, mp_holistic.HAND_CONNECTIONS, \n",
    "                             mp_drawing.DrawingSpec(color=(121,22,76), thickness=2, circle_radius=4), \n",
    "                             mp_drawing.DrawingSpec(color=(121,44,250), thickness=2, circle_radius=2)\n",
    "                             ) \n",
    "    # Draw right hand connections  \n",
    "    mp_drawing.draw_landmarks(image, results.right_hand_landmarks, mp_holistic.HAND_CONNECTIONS, \n",
    "                             mp_drawing.DrawingSpec(color=(245,117,66), thickness=2, circle_radius=4), \n",
    "                             mp_drawing.DrawingSpec(color=(245,66,230), thickness=2, circle_radius=2)\n",
    "                             ) \n",
    "\n",
    "# Extracting data points\n",
    "def extract_keypoints(results):\n",
    "    pose = np.array([[res.x, res.y, res.z, res.visibility] for res in results.pose_landmarks.landmark]).flatten() if results.pose_landmarks else np.zeros(33*4)\n",
    "    face = np.array([[res.x, res.y, res.z] for res in results.face_landmarks.landmark]).flatten() if results.face_landmarks else np.zeros(468*3)\n",
    "    lh = np.array([[res.x, res.y, res.z] for res in results.left_hand_landmarks.landmark]).flatten() if results.left_hand_landmarks else np.zeros(21*3)\n",
    "    rh = np.array([[res.x, res.y, res.z] for res in results.right_hand_landmarks.landmark]).flatten() if results.right_hand_landmarks else np.zeros(21*3)\n",
    "    return np.concatenate([pose, face, lh, rh])"
   ]
  },
  {
   "cell_type": "markdown",
   "metadata": {},
   "source": [
    "# 2. Data Gathering"
   ]
  },
  {
   "cell_type": "code",
   "execution_count": 15,
   "metadata": {},
   "outputs": [
    {
     "name": "stdout",
     "output_type": "stream",
     "text": [
      "R.001.mp4 0\n",
      "Directory Already Exists, passing file\n",
      "U.001.mp4 1\n",
      "Directory Already Exists, passing file\n",
      "V.001.mp4 2\n",
      "Directory Already Exists, passing file\n"
     ]
    }
   ],
   "source": [
    "INPUT_VIDEO_PATH = r'C:\\Users\\Tommaso\\Google Drive\\Current Courses\\COMP9444\\CodingTasks\\Dataset'\n",
    "\n",
    "# Path for exported data, numpy arrays\n",
    "DATA_PATH = os.path.join('MP_Data') \n",
    "\n",
    "# Videos are going to be 30 frames in length\n",
    "SEQUENCE_LENGTH = 30\n",
    "\n",
    "label_map = {}\n",
    "no_sequences = {}\n",
    "actions = []\n",
    "# VIDEO NAMING CONVENTION = \"ACTION.SEQUENCE.mp4\" \n",
    "# e.g. \"V.001.mp4\"\n",
    "for i,vid in enumerate(os.listdir(INPUT_VIDEO_PATH)):\n",
    "    print(vid,i)\n",
    "    string = vid.split('.')\n",
    "    action = string[0]\n",
    "    sequence = int(string[1])\n",
    "    cap = cv2.VideoCapture(vid)\n",
    "    label_map[action] = i\n",
    "    \n",
    "    if action in no_sequences:\n",
    "        no_sequences[action] += 1\n",
    "    else:\n",
    "       no_sequences[action] = 1\n",
    "      \n",
    "    if action not in actions:\n",
    "        actions.append(action)\n",
    "    try: \n",
    "        os.makedirs(os.path.join(DATA_PATH, action, str(sequence)))\n",
    "    except:\n",
    "        print('Directory Already Exists, passing file')\n",
    "        continue\n",
    "        \n",
    "    vid_loc = os.path.join(INPUT_VIDEO_PATH,vid)\n",
    "    cap = cv2.VideoCapture(vid_loc)\n",
    "    # Set mediapipe model \n",
    "    with mp_holistic.Holistic(min_detection_confidence=0.5, min_tracking_confidence=0.5) as holistic:\n",
    "        # this is code for reading from a video file\n",
    "        frame_num = 0\n",
    "        while(cap.isOpened() and frame_num < SEQUENCE_LENGTH):\n",
    "            # Read feed\n",
    "            ret, frame = cap.read()\n",
    "            \n",
    "            if ret:\n",
    "                image, results = mediapipe_detection(frame, holistic)\n",
    "                # Draw landmarks\n",
    "                draw_styled_landmarks(image, results)\n",
    "                cv2.waitKey(1)\n",
    "                \n",
    "                # UNCOMMENT THIS TO SEE THE VIDEO DISPLAYED\n",
    "                # cv2.putText(image, 'Collecting frames for {} Video Number {}'.format(action, sequence), (15,12), \n",
    "                #                cv2.FONT_HERSHEY_SIMPLEX, 0.5, (0, 0, 255), 1, cv2.LINE_AA)\n",
    "                # # Show to screen\n",
    "                # cv2.imshow('OpenCV Feed', image)\n",
    "                \n",
    "                # NEW Export keypoints\n",
    "                keypoints = extract_keypoints(results)\n",
    "                npy_path = os.path.join(DATA_PATH, action, str(sequence), str(frame_num))\n",
    "                np.save(npy_path, keypoints)\n",
    "                frame_num += 1\n",
    "            else:\n",
    "                break\n",
    "            \n",
    "    cap.release()\n",
    "    cv2.destroyAllWindows()\n",
    "\n"
   ]
  },
  {
   "cell_type": "markdown",
   "metadata": {},
   "source": [
    "# 3. Data Preprocessing"
   ]
  },
  {
   "cell_type": "code",
   "execution_count": 26,
   "metadata": {},
   "outputs": [
    {
     "name": "stdout",
     "output_type": "stream",
     "text": [
      "{'R': 1, 'U': 1, 'V': 1}\n",
      "['R', 'U', 'V']\n"
     ]
    }
   ],
   "source": [
    "print(no_sequences)\n",
    "print(actions)\n",
    "\n",
    "sequences, labels = [], []\n",
    "for action in actions:\n",
    "    for sequence in range(no_sequences[action]):\n",
    "        window = []\n",
    "        for frame_num in range(SEQUENCE_LENGTH):\n",
    "            res = np.load(os.path.join(DATA_PATH, action, str(sequence+1), \"{}.npy\".format(frame_num)))\n",
    "            window.append(res)\n",
    "        sequences.append(window)\n",
    "        labels.append(label_map[action])\n",
    "\n",
    "X = np.array(sequences)\n",
    "y = to_categorical(labels).astype(int)\n",
    "X_train, X_test, y_train, y_test = train_test_split(X, y, test_size=0.05)"
   ]
  },
  {
   "cell_type": "markdown",
   "metadata": {},
   "source": [
    "# 4. Build and Train LSTM Neural Network"
   ]
  },
  {
   "cell_type": "code",
   "execution_count": null,
   "metadata": {},
   "outputs": [],
   "source": [
    "import torch\n",
    "import torchinfo\n",
    "\n",
    "\n",
    "# batch_size = 32\n",
    "# timesteps = 12\n",
    "# input_features = 16\n",
    "# h1_features = 8\n",
    "# h2_features = 4\n",
    "# h3_features = 2\n",
    "# output_features = 1\n",
    "\n",
    "# class SimpleModel(torch.nn.Module):\n",
    "#     def __init__(self):\n",
    "#         super().__init__()\n",
    "#         self.lstm1 = torch.nn.LSTM(input_size=input_features, hidden_size=h1_features)\n",
    "#         self.lstm2 = torch.nn.LSTM(input_size=h1_features, hidden_size=h2_features)\n",
    "#         self.lstm2 = torch.nn.LSTM(input_size=h1_features, hidden_size=h2_features)\n",
    "#         self.fc1 = torch.nn.Linear(h2_features, h3_features)\n",
    "#         self.relu = torch.nn.ReLU()\n",
    "#         self.fc2 = torch.nn.Linear(h3_features, output_features)\n",
    "#         self.sigmoid = torch.nn.Sigmoid()\n",
    "\n",
    "#     def forward(self, inputs):\n",
    "#         h1, (h1_T,c1_T) = self.lstm1(inputs)\n",
    "#         h2, (h2_T, c2_T) = self.lstm2(h1)\n",
    "#         h3 = self.fc1(h2[-1,:,:])\n",
    "#         h3 = self.relu(h3)\n",
    "#         output = self.fc2(h3)\n",
    "#         output = self.sigmoid(output)\n",
    "#         return output\n",
    "\n",
    "print('Hello')\n",
    "\n",
    "\n",
    "log_dir = os.path.join('Logs')\n",
    "tb_callback = TensorBoard(log_dir=log_dir)\n",
    "model = Sequential()\n",
    "model.add(LSTM(64, return_sequences=True, activation='relu', input_shape=(30,1662)))\n",
    "model.add(LSTM(128, return_sequences=True, activation='relu'))\n",
    "model.add(LSTM(64, return_sequences=False, activation='relu'))\n",
    "model.add(Dense(64, activation='relu'))\n",
    "model.add(Dense(32, activation='relu'))\n",
    "model.add(Dense(actions.shape[0], activation='softmax'))\n"
   ]
  }
 ],
 "metadata": {
  "kernelspec": {
   "display_name": "Python 3.10.4 ('COMP9444')",
   "language": "python",
   "name": "python3"
  },
  "language_info": {
   "codemirror_mode": {
    "name": "ipython",
    "version": 3
   },
   "file_extension": ".py",
   "mimetype": "text/x-python",
   "name": "python",
   "nbconvert_exporter": "python",
   "pygments_lexer": "ipython3",
   "version": "3.10.4"
  },
  "orig_nbformat": 4,
  "vscode": {
   "interpreter": {
    "hash": "adcd07c473f1a0a93ae5a4a7e008c9e6976e1c53cf20d6dd85f7f4faf50dfb9e"
   }
  }
 },
 "nbformat": 4,
 "nbformat_minor": 2
}
