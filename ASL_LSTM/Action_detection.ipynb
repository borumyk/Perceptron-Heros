{
 "cells": [
  {
   "cell_type": "markdown",
   "metadata": {},
   "source": [
    "# 1. Dependencies"
   ]
  },
  {
   "cell_type": "code",
   "execution_count": 2,
   "metadata": {},
   "outputs": [],
   "source": [
    "import cv2\n",
    "import numpy as np\n",
    "import os\n",
    "from matplotlib import pyplot as plt\n",
    "import time\n",
    "import mediapipe as mp  "
   ]
  },
  {
   "cell_type": "markdown",
   "metadata": {},
   "source": [
    "# 2. Functions"
   ]
  },
  {
   "cell_type": "code",
   "execution_count": 4,
   "metadata": {},
   "outputs": [],
   "source": [
    "mp_holistic = mp.solutions.holistic # bringing the holstic model\n",
    "mp_drawing = mp.solutions.drawing_utils # drawing utilities\n",
    "\n",
    "def mediapipe_detection(image, model):\n",
    "    image = cv2.cvtColor(image, cv2.COLOR_BGR2RGB) # COLOR CONVERSION BGR 2 RGB\n",
    "    image.flags.writeable = False                  # Image is no longer writeable\n",
    "    results = model.process(image)                 # Make prediction - detecting using mediapipe\n",
    "    image.flags.writeable = True                   # Image is now writeable \n",
    "    image = cv2.cvtColor(image, cv2.COLOR_RGB2BGR) # COLOR COVERSION RGB 2 BGR\n",
    "    return image, results\n",
    "\n",
    "def draw_landmarks(image, results):\n",
    "    mp_drawing.draw_landmarks(image, results.face_landmarks, mp_holistic.FACEMESH_TESSELATION) # Draw face connections\n",
    "    mp_drawing.draw_landmarks(image, results.pose_landmarks, mp_holistic.POSE_CONNECTIONS) # Draw pose connections\n",
    "    mp_drawing.draw_landmarks(image, results.left_hand_landmarks, mp_holistic.HAND_CONNECTIONS) # Draw left hand connections\n",
    "    mp_drawing.draw_landmarks(image, results.right_hand_landmarks, mp_holistic.HAND_CONNECTIONS) # Draw right hand connections\n",
    "def draw_styled_landmarks(image, results):\n",
    "    # Draw face connections\n",
    "    mp_drawing.draw_landmarks(image, results.face_landmarks, mp_holistic.FACEMESH_TESSELATION, \n",
    "                             mp_drawing.DrawingSpec(color=(80,110,10), thickness=1, circle_radius=1), \n",
    "                             mp_drawing.DrawingSpec(color=(80,256,121), thickness=1, circle_radius=1)\n",
    "                             ) \n",
    "    # Draw pose connections\n",
    "    mp_drawing.draw_landmarks(image, results.pose_landmarks, mp_holistic.POSE_CONNECTIONS,\n",
    "                             mp_drawing.DrawingSpec(color=(80,22,10), thickness=2, circle_radius=4), \n",
    "                             mp_drawing.DrawingSpec(color=(80,44,121), thickness=2, circle_radius=2)\n",
    "                             ) \n",
    "    # Draw left hand connections\n",
    "    mp_drawing.draw_landmarks(image, results.left_hand_landmarks, mp_holistic.HAND_CONNECTIONS, \n",
    "                             mp_drawing.DrawingSpec(color=(121,22,76), thickness=2, circle_radius=4), \n",
    "                             mp_drawing.DrawingSpec(color=(121,44,250), thickness=2, circle_radius=2)\n",
    "                             ) \n",
    "    # Draw right hand connections  \n",
    "    mp_drawing.draw_landmarks(image, results.right_hand_landmarks, mp_holistic.HAND_CONNECTIONS, \n",
    "                             mp_drawing.DrawingSpec(color=(245,117,66), thickness=2, circle_radius=4), \n",
    "                             mp_drawing.DrawingSpec(color=(245,66,230), thickness=2, circle_radius=2)\n",
    "                             ) "
   ]
  },
  {
   "cell_type": "markdown",
   "metadata": {},
   "source": [
    "# 2. Keypoints using MP Holistic"
   ]
  },
  {
   "cell_type": "code",
   "execution_count": 5,
   "metadata": {},
   "outputs": [
    {
     "name": "stdout",
     "output_type": "stream",
     "text": [
      "here\n",
      "enter\n"
     ]
    },
    {
     "ename": "error",
     "evalue": "OpenCV(4.6.0) D:\\a\\opencv-python\\opencv-python\\opencv\\modules\\imgproc\\src\\color.cpp:182: error: (-215:Assertion failed) !_src.empty() in function 'cv::cvtColor'\n",
     "output_type": "error",
     "traceback": [
      "\u001b[1;31m---------------------------------------------------------------------------\u001b[0m",
      "\u001b[1;31merror\u001b[0m                                     Traceback (most recent call last)",
      "\u001b[1;32mc:\\Users\\Tommaso\\Google Drive\\Current Courses\\COMP9444\\CodingTasks\\Perceptron-Heros\\ASL_LSTM\\Action_detection.ipynb Cell 6\u001b[0m in \u001b[0;36m<cell line: 8>\u001b[1;34m()\u001b[0m\n\u001b[0;32m     <a href='vscode-notebook-cell:/c%3A/Users/Tommaso/Google%20Drive/Current%20Courses/COMP9444/CodingTasks/Perceptron-Heros/ASL_LSTM/Action_detection.ipynb#ch0000003?line=12'>13</a>\u001b[0m ret, frame \u001b[39m=\u001b[39m cap\u001b[39m.\u001b[39mread()\n\u001b[0;32m     <a href='vscode-notebook-cell:/c%3A/Users/Tommaso/Google%20Drive/Current%20Courses/COMP9444/CodingTasks/Perceptron-Heros/ASL_LSTM/Action_detection.ipynb#ch0000003?line=14'>15</a>\u001b[0m \u001b[39m# Make detections\u001b[39;00m\n\u001b[1;32m---> <a href='vscode-notebook-cell:/c%3A/Users/Tommaso/Google%20Drive/Current%20Courses/COMP9444/CodingTasks/Perceptron-Heros/ASL_LSTM/Action_detection.ipynb#ch0000003?line=15'>16</a>\u001b[0m image, results \u001b[39m=\u001b[39m mediapipe_detection(frame, holistic)\n\u001b[0;32m     <a href='vscode-notebook-cell:/c%3A/Users/Tommaso/Google%20Drive/Current%20Courses/COMP9444/CodingTasks/Perceptron-Heros/ASL_LSTM/Action_detection.ipynb#ch0000003?line=16'>17</a>\u001b[0m \u001b[39m#print(results)\u001b[39;00m\n\u001b[0;32m     <a href='vscode-notebook-cell:/c%3A/Users/Tommaso/Google%20Drive/Current%20Courses/COMP9444/CodingTasks/Perceptron-Heros/ASL_LSTM/Action_detection.ipynb#ch0000003?line=17'>18</a>\u001b[0m \n\u001b[0;32m     <a href='vscode-notebook-cell:/c%3A/Users/Tommaso/Google%20Drive/Current%20Courses/COMP9444/CodingTasks/Perceptron-Heros/ASL_LSTM/Action_detection.ipynb#ch0000003?line=18'>19</a>\u001b[0m \u001b[39m# Draw landmarks\u001b[39;00m\n\u001b[0;32m     <a href='vscode-notebook-cell:/c%3A/Users/Tommaso/Google%20Drive/Current%20Courses/COMP9444/CodingTasks/Perceptron-Heros/ASL_LSTM/Action_detection.ipynb#ch0000003?line=19'>20</a>\u001b[0m draw_styled_landmarks(image, results)\n",
      "\u001b[1;32mc:\\Users\\Tommaso\\Google Drive\\Current Courses\\COMP9444\\CodingTasks\\Perceptron-Heros\\ASL_LSTM\\Action_detection.ipynb Cell 6\u001b[0m in \u001b[0;36mmediapipe_detection\u001b[1;34m(image, model)\u001b[0m\n\u001b[0;32m      <a href='vscode-notebook-cell:/c%3A/Users/Tommaso/Google%20Drive/Current%20Courses/COMP9444/CodingTasks/Perceptron-Heros/ASL_LSTM/Action_detection.ipynb#ch0000003?line=3'>4</a>\u001b[0m \u001b[39mdef\u001b[39;00m \u001b[39mmediapipe_detection\u001b[39m(image, model):\n\u001b[1;32m----> <a href='vscode-notebook-cell:/c%3A/Users/Tommaso/Google%20Drive/Current%20Courses/COMP9444/CodingTasks/Perceptron-Heros/ASL_LSTM/Action_detection.ipynb#ch0000003?line=4'>5</a>\u001b[0m     image \u001b[39m=\u001b[39m cv2\u001b[39m.\u001b[39;49mcvtColor(image, cv2\u001b[39m.\u001b[39;49mCOLOR_BGR2RGB) \u001b[39m# COLOR CONVERSION BGR 2 RGB\u001b[39;00m\n\u001b[0;32m      <a href='vscode-notebook-cell:/c%3A/Users/Tommaso/Google%20Drive/Current%20Courses/COMP9444/CodingTasks/Perceptron-Heros/ASL_LSTM/Action_detection.ipynb#ch0000003?line=5'>6</a>\u001b[0m     image\u001b[39m.\u001b[39mflags\u001b[39m.\u001b[39mwriteable \u001b[39m=\u001b[39m \u001b[39mFalse\u001b[39;00m                  \u001b[39m# Image is no longer writeable\u001b[39;00m\n\u001b[0;32m      <a href='vscode-notebook-cell:/c%3A/Users/Tommaso/Google%20Drive/Current%20Courses/COMP9444/CodingTasks/Perceptron-Heros/ASL_LSTM/Action_detection.ipynb#ch0000003?line=6'>7</a>\u001b[0m     results \u001b[39m=\u001b[39m model\u001b[39m.\u001b[39mprocess(image)                 \u001b[39m# Make prediction - detecting using mediapipe\u001b[39;00m\n",
      "\u001b[1;31merror\u001b[0m: OpenCV(4.6.0) D:\\a\\opencv-python\\opencv-python\\opencv\\modules\\imgproc\\src\\color.cpp:182: error: (-215:Assertion failed) !_src.empty() in function 'cv::cvtColor'\n"
     ]
    }
   ],
   "source": [
    "input_video_path = r'C:\\Users\\Tommaso\\Google Drive\\Current Courses\\COMP9444\\CodingTasks\\Dataset\\V_001.mp4'\n",
    "\n",
    "if os.path.exists(input_video_path):\n",
    "    print(\"here\")\n",
    "\n",
    "cap = cv2.VideoCapture(input_video_path)\n",
    "# Set mediapipe model \n",
    "with mp_holistic.Holistic(min_detection_confidence=0.5, min_tracking_confidence=0.5) as holistic:\n",
    "    print(\"enter\")\n",
    "    # this is code for reading from a video file\n",
    "    while(cap.isOpened()):\n",
    "        # Read feed\n",
    "        ret, frame = cap.read()\n",
    "\n",
    "        # Make detections\n",
    "        image, results = mediapipe_detection(frame, holistic)\n",
    "        #print(results)\n",
    "        \n",
    "        # Draw landmarks\n",
    "        draw_styled_landmarks(image, results)\n",
    "        # Show to screen\n",
    "        #cv2.imshow('OpenCV Feed', image)\n",
    "        \n",
    "        if ret:\n",
    "            cv2.imshow('OpenCV Feed', image)\n",
    "            cv2.waitKey(1)\n",
    "        else:\n",
    "            print(\"gtfo\")\n",
    "            break\n",
    "\n",
    "cap.release()\n",
    "cv2.destroyAllWindows()"
   ]
  }
 ],
 "metadata": {
  "kernelspec": {
   "display_name": "Python 3.10.4 ('COMP9444')",
   "language": "python",
   "name": "python3"
  },
  "language_info": {
   "codemirror_mode": {
    "name": "ipython",
    "version": 3
   },
   "file_extension": ".py",
   "mimetype": "text/x-python",
   "name": "python",
   "nbconvert_exporter": "python",
   "pygments_lexer": "ipython3",
   "version": "3.10.4"
  },
  "orig_nbformat": 4,
  "vscode": {
   "interpreter": {
    "hash": "adcd07c473f1a0a93ae5a4a7e008c9e6976e1c53cf20d6dd85f7f4faf50dfb9e"
   }
  }
 },
 "nbformat": 4,
 "nbformat_minor": 2
}
