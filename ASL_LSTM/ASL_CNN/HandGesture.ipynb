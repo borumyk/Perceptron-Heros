{
 "cells": [
  {
   "cell_type": "code",
   "execution_count": 86,
   "id": "0bc72e2e",
   "metadata": {},
   "outputs": [],
   "source": [
    "from keras.preprocessing.image import ImageDataGenerator\n",
    "from keras.models import Sequential, load_model\n",
    "from keras.layers import Convolution2D\n",
    "from keras.layers import MaxPooling2D\n",
    "from keras.layers import Flatten\n",
    "from keras.layers import Dense , Dropout\n",
    "from keras.models import load_model\n",
    "from keras.preprocessing import image\n",
    "import cv2\n",
    "import numpy as np\n",
    "size = 100"
   ]
  },
  {
   "cell_type": "code",
   "execution_count": 87,
   "id": "caff28d3",
   "metadata": {},
   "outputs": [],
   "source": [
    "train_datagen = ImageDataGenerator(\n",
    "        rescale=1./255, horizontal_flip = True)\n",
    "test_datagen = ImageDataGenerator(rescale=1./255)"
   ]
  },
  {
   "cell_type": "code",
   "execution_count": 88,
   "id": "4492e50c",
   "metadata": {},
   "outputs": [
    {
     "name": "stdout",
     "output_type": "stream",
     "text": [
      "Found 3131 images belonging to 26 classes.\n"
     ]
    }
   ],
   "source": [
    "\n",
    "training_set = train_datagen.flow_from_directory('data_inv/train',\n",
    "                                                 target_size=(size, size),\n",
    "                                                 batch_size=20,\n",
    "                                                 color_mode='grayscale',\n",
    "                                                 class_mode='categorical',\n",
    "                                                 shuffle=True)"
   ]
  },
  {
   "cell_type": "code",
   "execution_count": 89,
   "id": "b757f3df",
   "metadata": {},
   "outputs": [
    {
     "name": "stdout",
     "output_type": "stream",
     "text": [
      "Found 1 images belonging to 26 classes.\n"
     ]
    }
   ],
   "source": [
    "testing_set = test_datagen.flow_from_directory('data/test',\n",
    "                                                 target_size=(size, size),\n",
    "                                                 batch_size=20,\n",
    "                                                 color_mode='grayscale',\n",
    "                                                 class_mode='categorical',\n",
    "                                                 shuffle=True)"
   ]
  },
  {
   "cell_type": "code",
   "execution_count": 90,
   "id": "24465f96",
   "metadata": {},
   "outputs": [
    {
     "name": "stdout",
     "output_type": "stream",
     "text": [
      "Model: \"sequential_9\"\n",
      "_________________________________________________________________\n",
      "Layer (type)                 Output Shape              Param #   \n",
      "=================================================================\n",
      "conv2d_18 (Conv2D)           (None, 98, 98, 32)        320       \n",
      "_________________________________________________________________\n",
      "max_pooling2d_18 (MaxPooling (None, 49, 49, 32)        0         \n",
      "_________________________________________________________________\n",
      "conv2d_19 (Conv2D)           (None, 47, 47, 32)        9248      \n",
      "_________________________________________________________________\n",
      "max_pooling2d_19 (MaxPooling (None, 23, 23, 32)        0         \n",
      "_________________________________________________________________\n",
      "flatten_9 (Flatten)          (None, 16928)             0         \n",
      "_________________________________________________________________\n",
      "dense_36 (Dense)             (None, 128)               2166912   \n",
      "_________________________________________________________________\n",
      "dropout_18 (Dropout)         (None, 128)               0         \n",
      "_________________________________________________________________\n",
      "dense_37 (Dense)             (None, 96)                12384     \n",
      "_________________________________________________________________\n",
      "dropout_19 (Dropout)         (None, 96)                0         \n",
      "_________________________________________________________________\n",
      "dense_38 (Dense)             (None, 64)                6208      \n",
      "_________________________________________________________________\n",
      "dense_39 (Dense)             (None, 26)                1690      \n",
      "=================================================================\n",
      "Total params: 2,196,762\n",
      "Trainable params: 2,196,762\n",
      "Non-trainable params: 0\n",
      "_________________________________________________________________\n"
     ]
    }
   ],
   "source": [
    "classifier = Sequential()\n",
    "\n",
    "# First convolution layer and pooling\n",
    "classifier.add(Convolution2D(32, (3, 3), input_shape=(size, size, 1), activation='relu'))\n",
    "classifier.add(MaxPooling2D(pool_size=(2, 2)))\n",
    "\n",
    "# Second convolution layer and pooling\n",
    "classifier.add(Convolution2D(32, (3, 3), activation='relu'))\n",
    "classifier.add(MaxPooling2D(pool_size=(2, 2)))\n",
    "\n",
    "# Flattening the layers\n",
    "classifier.add(Flatten())\n",
    "\n",
    "# Adding a fully connected layer\n",
    "classifier.add(Dense(units=128, activation='relu'))\n",
    "classifier.add(Dropout(0.40))\n",
    "\n",
    "classifier.add(Dense(units=96, activation='relu'))\n",
    "classifier.add(Dropout(0.40))\n",
    "classifier.add(Dense(units=64, activation='relu'))\n",
    "classifier.add(Dense(units=26, activation='softmax')) # softmax for more than 2\n",
    "\n",
    "# Compiling the CNN\n",
    "classifier.compile(optimizer='adam', loss='categorical_crossentropy', metrics=['accuracy']) # categorical_crossentropy for more than 2\n",
    "classifier.summary()"
   ]
  },
  {
   "cell_type": "code",
   "execution_count": 91,
   "id": "20c08c2a",
   "metadata": {},
   "outputs": [
    {
     "name": "stderr",
     "output_type": "stream",
     "text": [
      "/opt/homebrew/Caskroom/miniforge/base/envs/tensorflow/lib/python3.9/site-packages/keras/engine/training.py:1915: UserWarning: `Model.fit_generator` is deprecated and will be removed in a future version. Please use `Model.fit`, which supports generators.\n",
      "  warnings.warn('`Model.fit_generator` is deprecated and '\n"
     ]
    },
    {
     "name": "stdout",
     "output_type": "stream",
     "text": [
      "Epoch 1/100\n",
      " 1/25 [>.............................] - ETA: 15s - loss: 3.2884 - accuracy: 0.0000e+00"
     ]
    },
    {
     "name": "stderr",
     "output_type": "stream",
     "text": [
      "2022-07-20 16:37:55.606565: I tensorflow/core/grappler/optimizers/custom_graph_optimizer_registry.cc:112] Plugin optimizer for device_type GPU is enabled.\n"
     ]
    },
    {
     "name": "stdout",
     "output_type": "stream",
     "text": [
      "25/25 [==============================] - 1s 20ms/step - loss: 3.2875 - accuracy: 0.0296\n",
      "Epoch 2/100\n",
      "25/25 [==============================] - 0s 19ms/step - loss: 3.2479 - accuracy: 0.0383\n",
      "Epoch 3/100\n",
      "25/25 [==============================] - 1s 21ms/step - loss: 3.0784 - accuracy: 0.1042\n",
      "Epoch 4/100\n",
      "25/25 [==============================] - 0s 19ms/step - loss: 2.8172 - accuracy: 0.1517\n",
      "Epoch 5/100\n",
      "25/25 [==============================] - 0s 19ms/step - loss: 2.4511 - accuracy: 0.2029\n",
      "Epoch 6/100\n",
      "25/25 [==============================] - 1s 20ms/step - loss: 2.1450 - accuracy: 0.2759\n",
      "Epoch 7/100\n",
      "25/25 [==============================] - 0s 19ms/step - loss: 2.0339 - accuracy: 0.3139\n",
      "Epoch 8/100\n",
      "25/25 [==============================] - 0s 19ms/step - loss: 1.8216 - accuracy: 0.3842\n",
      "Epoch 9/100\n",
      "25/25 [==============================] - 0s 19ms/step - loss: 1.7119 - accuracy: 0.4280\n",
      "Epoch 10/100\n",
      "25/25 [==============================] - 0s 19ms/step - loss: 1.5429 - accuracy: 0.5194\n",
      "Epoch 11/100\n",
      "25/25 [==============================] - 0s 19ms/step - loss: 1.3129 - accuracy: 0.5361\n",
      "Epoch 12/100\n",
      "25/25 [==============================] - 0s 20ms/step - loss: 1.2054 - accuracy: 0.5992\n",
      "Epoch 13/100\n",
      "25/25 [==============================] - 0s 19ms/step - loss: 1.1291 - accuracy: 0.6409\n",
      "Epoch 14/100\n",
      "25/25 [==============================] - 0s 19ms/step - loss: 1.0684 - accuracy: 0.6683\n",
      "Epoch 15/100\n",
      "25/25 [==============================] - 0s 19ms/step - loss: 0.9331 - accuracy: 0.6720\n",
      "Epoch 16/100\n",
      "25/25 [==============================] - 0s 19ms/step - loss: 0.7747 - accuracy: 0.7527\n",
      "Epoch 17/100\n",
      "25/25 [==============================] - 0s 19ms/step - loss: 0.8372 - accuracy: 0.7020\n",
      "Epoch 18/100\n",
      "25/25 [==============================] - 0s 19ms/step - loss: 0.6972 - accuracy: 0.7699\n",
      "Epoch 19/100\n",
      "25/25 [==============================] - 0s 19ms/step - loss: 0.6768 - accuracy: 0.7798\n",
      "Epoch 20/100\n",
      "25/25 [==============================] - 0s 19ms/step - loss: 0.6588 - accuracy: 0.7785\n",
      "Epoch 21/100\n",
      "25/25 [==============================] - 0s 19ms/step - loss: 0.5726 - accuracy: 0.8030\n",
      "Epoch 22/100\n",
      "25/25 [==============================] - 1s 20ms/step - loss: 0.6235 - accuracy: 0.7921\n",
      "Epoch 23/100\n",
      "25/25 [==============================] - 0s 19ms/step - loss: 0.5404 - accuracy: 0.8297\n",
      "Epoch 24/100\n",
      "25/25 [==============================] - 0s 19ms/step - loss: 0.5121 - accuracy: 0.8258\n",
      "Epoch 25/100\n",
      "25/25 [==============================] - 1s 20ms/step - loss: 0.4164 - accuracy: 0.8684\n",
      "Epoch 26/100\n",
      "25/25 [==============================] - 0s 19ms/step - loss: 0.4185 - accuracy: 0.8580\n",
      "Epoch 27/100\n",
      "25/25 [==============================] - 0s 19ms/step - loss: 0.5998 - accuracy: 0.8130\n",
      "Epoch 28/100\n",
      "25/25 [==============================] - 0s 20ms/step - loss: 0.3486 - accuracy: 0.8968\n",
      "Epoch 29/100\n",
      "25/25 [==============================] - 1s 19ms/step - loss: 0.3374 - accuracy: 0.9055\n",
      "Epoch 30/100\n",
      "25/25 [==============================] - 1s 20ms/step - loss: 0.4748 - accuracy: 0.8519\n",
      "Epoch 31/100\n",
      "25/25 [==============================] - 1s 20ms/step - loss: 0.4045 - accuracy: 0.8893\n",
      "Epoch 32/100\n",
      "25/25 [==============================] - 1s 20ms/step - loss: 0.3620 - accuracy: 0.8789\n",
      "Epoch 33/100\n",
      "25/25 [==============================] - 0s 20ms/step - loss: 0.4422 - accuracy: 0.8524\n",
      "Epoch 34/100\n",
      "25/25 [==============================] - 0s 19ms/step - loss: 0.2911 - accuracy: 0.9051\n",
      "Epoch 35/100\n",
      "25/25 [==============================] - 0s 20ms/step - loss: 0.3189 - accuracy: 0.8887\n",
      "Epoch 36/100\n",
      "25/25 [==============================] - 0s 19ms/step - loss: 0.3102 - accuracy: 0.8954\n",
      "Epoch 37/100\n",
      "25/25 [==============================] - 1s 20ms/step - loss: 0.3180 - accuracy: 0.8926\n",
      "Epoch 38/100\n",
      "25/25 [==============================] - 1s 19ms/step - loss: 0.2637 - accuracy: 0.9276\n",
      "Epoch 39/100\n",
      "25/25 [==============================] - 0s 20ms/step - loss: 0.3129 - accuracy: 0.9111\n",
      "Epoch 40/100\n",
      "25/25 [==============================] - 0s 20ms/step - loss: 0.1704 - accuracy: 0.9528\n",
      "Epoch 41/100\n",
      "25/25 [==============================] - 1s 20ms/step - loss: 0.2671 - accuracy: 0.9117\n",
      "Epoch 42/100\n",
      "25/25 [==============================] - 0s 19ms/step - loss: 0.1740 - accuracy: 0.9354\n",
      "Epoch 43/100\n",
      "25/25 [==============================] - 0s 19ms/step - loss: 0.2299 - accuracy: 0.9427\n",
      "Epoch 44/100\n",
      "25/25 [==============================] - 1s 20ms/step - loss: 0.1652 - accuracy: 0.9478\n",
      "Epoch 45/100\n",
      "25/25 [==============================] - 1s 20ms/step - loss: 0.2120 - accuracy: 0.9405\n",
      "Epoch 46/100\n",
      "25/25 [==============================] - 1s 20ms/step - loss: 0.2922 - accuracy: 0.9089\n",
      "Epoch 47/100\n",
      "25/25 [==============================] - 1s 20ms/step - loss: 0.2203 - accuracy: 0.9161\n",
      "Epoch 48/100\n",
      "25/25 [==============================] - 1s 20ms/step - loss: 0.1947 - accuracy: 0.9289\n",
      "Epoch 49/100\n",
      "25/25 [==============================] - 1s 20ms/step - loss: 0.2041 - accuracy: 0.9197\n",
      "Epoch 50/100\n",
      "25/25 [==============================] - 1s 20ms/step - loss: 0.2047 - accuracy: 0.9420\n",
      "Epoch 51/100\n",
      "25/25 [==============================] - 1s 20ms/step - loss: 0.1608 - accuracy: 0.9539\n",
      "Epoch 52/100\n",
      "25/25 [==============================] - 1s 20ms/step - loss: 0.1517 - accuracy: 0.9457\n",
      "Epoch 53/100\n",
      "25/25 [==============================] - 1s 20ms/step - loss: 0.1581 - accuracy: 0.9429\n",
      "Epoch 54/100\n",
      "25/25 [==============================] - 1s 20ms/step - loss: 0.1359 - accuracy: 0.9519\n",
      "Epoch 55/100\n",
      "25/25 [==============================] - 1s 20ms/step - loss: 0.1965 - accuracy: 0.9404\n",
      "Epoch 56/100\n",
      "25/25 [==============================] - 1s 20ms/step - loss: 0.1624 - accuracy: 0.9548\n",
      "Epoch 57/100\n",
      "25/25 [==============================] - 0s 19ms/step - loss: 0.1440 - accuracy: 0.9378\n",
      "Epoch 58/100\n",
      "25/25 [==============================] - 1s 20ms/step - loss: 0.0898 - accuracy: 0.9677\n",
      "Epoch 59/100\n",
      "25/25 [==============================] - 1s 20ms/step - loss: 0.1044 - accuracy: 0.9678\n",
      "Epoch 60/100\n",
      "25/25 [==============================] - 1s 20ms/step - loss: 0.1104 - accuracy: 0.9716\n",
      "Epoch 61/100\n",
      "25/25 [==============================] - 1s 20ms/step - loss: 0.1123 - accuracy: 0.9561\n",
      "Epoch 62/100\n",
      "25/25 [==============================] - 0s 20ms/step - loss: 0.1357 - accuracy: 0.9524\n",
      "Epoch 63/100\n",
      "25/25 [==============================] - 1s 20ms/step - loss: 0.0996 - accuracy: 0.9615\n",
      "Epoch 64/100\n",
      "25/25 [==============================] - 1s 20ms/step - loss: 0.1208 - accuracy: 0.9645\n",
      "Epoch 65/100\n",
      "25/25 [==============================] - 1s 20ms/step - loss: 0.0748 - accuracy: 0.9834\n",
      "Epoch 66/100\n",
      "25/25 [==============================] - 0s 19ms/step - loss: 0.1565 - accuracy: 0.9519\n",
      "Epoch 67/100\n",
      "25/25 [==============================] - 1s 20ms/step - loss: 0.1258 - accuracy: 0.9620\n",
      "Epoch 68/100\n",
      "25/25 [==============================] - 1s 20ms/step - loss: 0.0916 - accuracy: 0.9621\n",
      "Epoch 69/100\n",
      "25/25 [==============================] - 0s 19ms/step - loss: 0.1272 - accuracy: 0.9599\n",
      "Epoch 70/100\n",
      "25/25 [==============================] - 0s 19ms/step - loss: 0.1847 - accuracy: 0.9456\n",
      "Epoch 71/100\n",
      "25/25 [==============================] - 1s 20ms/step - loss: 0.1185 - accuracy: 0.9588\n",
      "Epoch 72/100\n",
      "25/25 [==============================] - 1s 20ms/step - loss: 0.1064 - accuracy: 0.9661\n",
      "Epoch 73/100\n",
      "25/25 [==============================] - 1s 20ms/step - loss: 0.1176 - accuracy: 0.9674\n",
      "Epoch 74/100\n",
      "25/25 [==============================] - 1s 20ms/step - loss: 0.1083 - accuracy: 0.9756\n",
      "Epoch 75/100\n",
      "25/25 [==============================] - 0s 19ms/step - loss: 0.1092 - accuracy: 0.9774\n",
      "Epoch 76/100\n",
      "25/25 [==============================] - 1s 20ms/step - loss: 0.1280 - accuracy: 0.9620\n",
      "Epoch 77/100\n",
      "25/25 [==============================] - 1s 20ms/step - loss: 0.1290 - accuracy: 0.9566\n",
      "Epoch 78/100\n",
      "25/25 [==============================] - 1s 20ms/step - loss: 0.0933 - accuracy: 0.9643\n",
      "Epoch 79/100\n",
      "25/25 [==============================] - 1s 20ms/step - loss: 0.0990 - accuracy: 0.9689\n",
      "Epoch 80/100\n",
      "25/25 [==============================] - 1s 20ms/step - loss: 0.0679 - accuracy: 0.9821\n",
      "Epoch 81/100\n",
      "25/25 [==============================] - 1s 20ms/step - loss: 0.0819 - accuracy: 0.9694\n",
      "Epoch 82/100\n"
     ]
    },
    {
     "name": "stdout",
     "output_type": "stream",
     "text": [
      "25/25 [==============================] - 1s 20ms/step - loss: 0.0894 - accuracy: 0.9619\n",
      "Epoch 83/100\n",
      "25/25 [==============================] - 0s 19ms/step - loss: 0.0893 - accuracy: 0.9846\n",
      "Epoch 84/100\n",
      "25/25 [==============================] - 0s 19ms/step - loss: 0.0703 - accuracy: 0.9727\n",
      "Epoch 85/100\n",
      "25/25 [==============================] - 0s 19ms/step - loss: 0.0681 - accuracy: 0.9902\n",
      "Epoch 86/100\n",
      "25/25 [==============================] - 1s 20ms/step - loss: 0.0337 - accuracy: 0.9824\n",
      "Epoch 87/100\n",
      "25/25 [==============================] - 1s 20ms/step - loss: 0.0836 - accuracy: 0.9662\n",
      "Epoch 88/100\n",
      "25/25 [==============================] - 0s 19ms/step - loss: 0.1447 - accuracy: 0.9684\n",
      "Epoch 89/100\n",
      "25/25 [==============================] - 1s 20ms/step - loss: 0.0963 - accuracy: 0.9683\n",
      "Epoch 90/100\n",
      "25/25 [==============================] - 0s 19ms/step - loss: 0.1091 - accuracy: 0.9740\n",
      "Epoch 91/100\n",
      "25/25 [==============================] - 0s 20ms/step - loss: 0.0445 - accuracy: 0.9907\n",
      "Epoch 92/100\n",
      "25/25 [==============================] - 0s 19ms/step - loss: 0.0816 - accuracy: 0.9683\n",
      "Epoch 93/100\n",
      "25/25 [==============================] - 0s 19ms/step - loss: 0.1030 - accuracy: 0.9658\n",
      "Epoch 94/100\n",
      "25/25 [==============================] - 0s 19ms/step - loss: 0.0749 - accuracy: 0.9700\n",
      "Epoch 95/100\n",
      "25/25 [==============================] - 0s 20ms/step - loss: 0.1129 - accuracy: 0.9579\n",
      "Epoch 96/100\n",
      "25/25 [==============================] - 0s 19ms/step - loss: 0.0503 - accuracy: 0.9830\n",
      "Epoch 97/100\n",
      "25/25 [==============================] - 0s 20ms/step - loss: 0.1144 - accuracy: 0.9633\n",
      "Epoch 98/100\n",
      "25/25 [==============================] - 0s 20ms/step - loss: 0.0782 - accuracy: 0.9780\n",
      "Epoch 99/100\n",
      "25/25 [==============================] - 0s 20ms/step - loss: 0.0815 - accuracy: 0.9797\n",
      "Epoch 100/100\n",
      "25/25 [==============================] - 0s 19ms/step - loss: 0.0645 - accuracy: 0.9812\n"
     ]
    },
    {
     "data": {
      "text/plain": [
       "<keras.callbacks.History at 0x1546225b0>"
      ]
     },
     "execution_count": 91,
     "metadata": {},
     "output_type": "execute_result"
    }
   ],
   "source": [
    "classifier.fit_generator(generator=training_set,\n",
    "                    steps_per_epoch=25,\n",
    "                    epochs=100)"
   ]
  },
  {
   "cell_type": "code",
   "execution_count": 93,
   "id": "a88ef6ea",
   "metadata": {},
   "outputs": [
    {
     "name": "stdout",
     "output_type": "stream",
     "text": [
      "INFO:tensorflow:Assets written to: my_model/assets\n"
     ]
    }
   ],
   "source": [
    "classifier.save(\"my_model\")"
   ]
  },
  {
   "cell_type": "code",
   "execution_count": 98,
   "id": "96ff9961",
   "metadata": {},
   "outputs": [],
   "source": [
    "# model = load_model(\"my_model\")"
   ]
  },
  {
   "cell_type": "code",
   "execution_count": 99,
   "id": "93eaac98",
   "metadata": {},
   "outputs": [],
   "source": [
    "\n",
    "# img = image.load_img(\n",
    "#     \"aaa.png\",\n",
    "#     grayscale=True,\n",
    "#     color_mode='grayscale',\n",
    "#     target_size=(size, size)\n",
    "# )\n",
    "# img_array = image.img_to_array(img)\n",
    "# img_batch = np.expand_dims(img_array, axis=0)\n",
    "# print(np.argmax(model.predict(img_batch)))"
   ]
  },
  {
   "cell_type": "code",
   "execution_count": null,
   "id": "6326881e",
   "metadata": {},
   "outputs": [],
   "source": []
  },
  {
   "cell_type": "code",
   "execution_count": 100,
   "id": "b0a31b58",
   "metadata": {},
   "outputs": [
    {
     "data": {
      "text/plain": [
       "{'A': 0,\n",
       " 'B': 1,\n",
       " 'C': 2,\n",
       " 'D': 3,\n",
       " 'E': 4,\n",
       " 'F': 5,\n",
       " 'G': 6,\n",
       " 'H': 7,\n",
       " 'I': 8,\n",
       " 'J': 9,\n",
       " 'K': 10,\n",
       " 'L': 11,\n",
       " 'M': 12,\n",
       " 'N': 13,\n",
       " 'O': 14,\n",
       " 'P': 15,\n",
       " 'Q': 16,\n",
       " 'R': 17,\n",
       " 'S': 18,\n",
       " 'T': 19,\n",
       " 'U': 20,\n",
       " 'V': 21,\n",
       " 'W': 22,\n",
       " 'X': 23,\n",
       " 'Y': 24,\n",
       " 'Z': 25}"
      ]
     },
     "execution_count": 100,
     "metadata": {},
     "output_type": "execute_result"
    }
   ],
   "source": [
    "training_set.class_indices"
   ]
  },
  {
   "cell_type": "code",
   "execution_count": null,
   "id": "97549435",
   "metadata": {},
   "outputs": [],
   "source": []
  },
  {
   "cell_type": "code",
   "execution_count": null,
   "id": "dbcf6f78",
   "metadata": {},
   "outputs": [],
   "source": []
  },
  {
   "cell_type": "code",
   "execution_count": null,
   "id": "50d7c4f5",
   "metadata": {},
   "outputs": [],
   "source": []
  },
  {
   "cell_type": "code",
   "execution_count": null,
   "id": "bbdb3f97",
   "metadata": {},
   "outputs": [],
   "source": []
  }
 ],
 "metadata": {
  "kernelspec": {
   "display_name": "Python 3.9 (tensorflow)",
   "language": "python",
   "name": "tensorflow"
  },
  "language_info": {
   "codemirror_mode": {
    "name": "ipython",
    "version": 3
   },
   "file_extension": ".py",
   "mimetype": "text/x-python",
   "name": "python",
   "nbconvert_exporter": "python",
   "pygments_lexer": "ipython3",
   "version": "3.9.13"
  }
 },
 "nbformat": 4,
 "nbformat_minor": 5
}
