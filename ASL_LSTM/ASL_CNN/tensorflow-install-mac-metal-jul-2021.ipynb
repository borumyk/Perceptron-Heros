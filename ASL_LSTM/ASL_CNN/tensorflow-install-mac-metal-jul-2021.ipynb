{
 "cells": [
  {
   "cell_type": "markdown",
   "metadata": {},
   "source": [
    "<a href=\"https://colab.research.google.com/github/jeffheaton/t81_558_deep_learning/blob/master/tensorflow-install-mac-metal-jul-2021.ipynb\" target=\"_parent\"><img src=\"https://colab.research.google.com/assets/colab-badge.svg\" alt=\"Open In Colab\"/></a>"
   ]
  },
  {
   "cell_type": "markdown",
   "metadata": {},
   "source": [
    "# T81-558: Applications of Deep Neural Networks\n",
    "**Manual Python Setup**\n",
    "* Instructor: [Jeff Heaton](https://sites.wustl.edu/jeffheaton/), McKelvey School of Engineering, [Washington University in St. Louis](https://engineering.wustl.edu/Programs/Pages/default.aspx)\n",
    "* For more information visit the [class website](https://sites.wustl.edu/jeffheaton/t81-558/)."
   ]
  },
  {
   "cell_type": "markdown",
   "metadata": {},
   "source": [
    "# Software Installation (Mac on Apple Metal M1)\n",
    "This class is technically oriented.  A successful student needs to be able to compile and execute Python code that makes use of TensorFlow for deep learning. There are two options for you to accomplish this:\n",
    "\n",
    "* Install Python, TensorFlow, and some IDE (Jupyter, TensorFlow, and others)\n",
    "* Use Google CoLab in the cloud\n",
    "\n",
    "## Installing Python and TensorFlow\n",
    "\n",
    "Is your Mac Intel or Apple Metal (ARM)? The newer Mac ARM M1-based machines have considerably better deep learning support than their older Intel-based counterparts. Mac has not supported NVIDIA GPUs since 2016; however, the new M1 chips offer similar capabilities that will allow you to run most of the code in this course.  You can run any code not supported by the Apple M1 chip through Google CoLab, a free GPU-based Python environment. \n",
    "\n",
    "If you are running an older Intel Mac, there still are some options.  Refer to my [Intel Mac installation guide](tensorflow-install-mac-jan-2021.ipynb). \n",
    "\n",
    "With the introduction of the M1 chip, Apple introduced a system on a chip.  The new Mac M1 contains CPU, GPU, and deep learning hardware support, all on a single chip. The Mac M1 can run software created for the older Intel Mac's using an emulation layer called [Rosetta](https://en.wikipedia.org/wiki/Rosetta_(software)). To leverage the new M1 chip from Python, you must use a special Python distribution called [Miniforge](https://github.com/conda-forge/miniforge). Miniforge replaces other Python distributions that you might have installed, such as Anaconda or Miniconda. Apple instructions suggest that you remove Anaconda or Miniconda before installing Miniforge.  Because the Mac M1 is a very different architecture than Intel, the Miniforge distribution will maximize your performance. Be aware that once you install Miniforge, it will become your default Python interpreter.\n",
    "\n",
    "## Install Miniforge\n",
    "\n",
    "There are a variety of methods for installing Miniforge.  If you have trouble following my instructions, you may refer to this [installation process](https://developer.apple.com/metal/tensorflow-plugin/), upon which I base these instructions.\n",
    "\n",
    "I prefer to use [Homebrew](https://brew.sh/) to install Miniforge.  Homebrew is a package manager for the Mac, similar to **yum** or **apt-get** for Linux. To install Homebrew, follow this [link](https://brew.sh/) and copy/paste the installation command into a Mac terminal window.\n",
    "\n",
    "Once you have installed Homebrew, I suggest closing the terminal window and opening a new one to complete the installation. \n",
    "\n",
    "Next, you should install the xcode-select command-line utilities.  Use the following command to install:\n",
    "\n",
    "```\n",
    "xcode-select --install\n",
    "```\n",
    "\n",
    "If the above command gives an error, you should install XCode from the App Store.\n",
    "\n",
    "You will now use Homebrew to install Miniforge with the following command:\n",
    "\n",
    "```\n",
    "brew install miniforge\n",
    "```\n",
    "\n",
    "You should note which directory \n",
    "\n",
    "## Initiate Miniforge\n",
    "\n",
    "Run the following command to initiate your conda base environment:\n",
    "\n",
    "```\n",
    "conda init\n",
    "```\n",
    "\n",
    "This will set the python `PATH` to the Miniforge base in your profile (`~/.bash_profile` if bash or `~/.zshenv` if zsh) and create the base virtual environment.\n",
    "\n",
    "Note: Mac's orgionally used bsh and have now switched to zsh.  You can also run the above command as ```conda init zsh``` to specify zshell or ```conda init bash``` for bash.\n",
    "\n",
    "## Make Sure you Have the Correct Python (when things go wrong)\n",
    "\n",
    "Sometimes previous versions of Python might have been installed, and when you attempt to run the install script below you will recieve an error:\n",
    "\n",
    "```\n",
    "Collecting package metadata (repodata.json): done\n",
    "Solving environment: failed\n",
    "\n",
    "ResolvePackageNotFound: \n",
    "  - tensorflow-deps\n",
    "```\n",
    "\n",
    "To verify that you have the correct Python version registered, close and reopen your terminal window.  Issue the following command:\n",
    "\n",
    "```\n",
    "which python\n",
    "```\n",
    "\n",
    "This command should respond with something similar to:\n",
    "\n",
    "```\n",
    "/opt/homebrew/Caskroom/miniforge/base/bin/python\n",
    "```\n",
    "\n",
    "The key things to look for in the above response are \"homebrew\" and \"miniforge\".  If you see \"anaconda\" or \"miniconda\" your path is pointing to the wrong Python.  You will need to modify your \".zshrc\", make sure that the three Python paths match the path that \"brew\" installed it into earlier.  Most likely your \"miniforge\" is installed in one of these locations:\n",
    "\n",
    "* /usr/local/Caskroom/miniforge/base\n",
    "* /opt/homebrew/Caskroom/miniforge/base\n",
    "\n",
    "More info [here](https://github.com/conda-forge/miniforge/issues/127). \n",
    "\n",
    "\n",
    "## Install Jupyter and Create Environment\n",
    "\n",
    "Next, lets install Jupyter, which is the editor you will use in this course.\n",
    "\n",
    "```\n",
    "conda install -y jupyter\n",
    "```\n",
    "\n",
    "We will actually launch Jupyter later.\n",
    "\n",
    "First, we deactivate the base environment.\n",
    "\n",
    "```\n",
    "conda deactivate\n",
    "```\n",
    "\n",
    "Next, we will install the Mac M1 [tensorflow-apple-metal.yml](https://raw.githubusercontent.com/jeffheaton/t81_558_deep_learning/master/tensorflow-apple-metal.yml) file that I provide. Run the following command from the same directory that contains **tensorflow-apple-metal.yml**.\n",
    "\n",
    "```\n",
    "conda env create -f tensorflow-apple-metal.yml -n tensorflow\n",
    "```\n",
    "\n",
    "# Issues Creating Environment  (when things go wrong)\n",
    "\n",
    "Due to some [recent changes](https://github.com/grpc/grpc/issues/25082) in one of the TensorFlow dependancies you may get the following error when installing the YML file.   \n",
    "\n",
    "```\n",
    "Collecting grpcio\n",
    "  Using cached grpcio-1.34.0.tar.gz (21.0 MB)\n",
    "    ERROR: Command errored out with exit status 1:\n",
    "```\n",
    "\n",
    "If you encounter this error, remove your environment, define two environmental variables, and try again:\n",
    "\n",
    "```\n",
    "conda env remove --name tensorflow\n",
    "export GRPC_PYTHON_BUILD_SYSTEM_OPENSSL=1\n",
    "export GRPC_PYTHON_BUILD_SYSTEM_ZLIB=1\n",
    "conda env create -f tensorflow-apple-metal.yml -n tensorflow\n",
    "```\n",
    "\n",
    "\n",
    "# Activating New Environment\n",
    "\n",
    "To enter this environment, you must use the following command: \n",
    "\n",
    "```\n",
    "conda activate tensorflow\n",
    "```\n",
    "\n",
    "For now, let's add Jupyter support to your new environment.\n",
    "\n",
    "```\n",
    "conda install nb_conda\n",
    "```\n",
    "\n",
    "## Register your Environment\n",
    "\n",
    "The following command registers your **tensorflow** environment. Again, make sure you \"conda activate\" your new **tensorflow** environment.\n",
    "\n",
    "```\n",
    "python -m ipykernel install --user --name tensorflow --display-name \"Python 3.9 (tensorflow)\"\n",
    "```\n",
    "\n",
    "## Testing your Environment\n",
    "\n",
    "You can now start Jupyter notebook.  Use the following command.\n",
    "\n",
    "```\n",
    "jupyter notebook\n",
    "```\n",
    "\n",
    "You can now run the following code to check that you have the versions expected."
   ]
  },
  {
   "cell_type": "code",
   "execution_count": 1,
   "metadata": {},
   "outputs": [
    {
     "name": "stdout",
     "output_type": "stream",
     "text": [
      "Init Plugin\n",
      "Init Graph Optimizer\n",
      "Init Kernel\n",
      "Tensor Flow Version: 2.5.0\n",
      "Keras Version: 2.5.0\n",
      "\n",
      "Python 3.9.13 | packaged by conda-forge | (main, May 27 2022, 17:00:33) \n",
      "[Clang 13.0.1 ]\n",
      "Pandas 1.4.3\n",
      "Scikit-Learn 1.1.1\n",
      "GPU is available\n"
     ]
    }
   ],
   "source": [
    "# What version of Python do you have?\n",
    "import sys\n",
    "\n",
    "import tensorflow.keras\n",
    "import pandas as pd\n",
    "import sklearn as sk\n",
    "import tensorflow as tf\n",
    "\n",
    "print(f\"Tensor Flow Version: {tf.__version__}\")\n",
    "print(f\"Keras Version: {tensorflow.keras.__version__}\")\n",
    "print()\n",
    "print(f\"Python {sys.version}\")\n",
    "print(f\"Pandas {pd.__version__}\")\n",
    "print(f\"Scikit-Learn {sk.__version__}\")\n",
    "gpu = len(tf.config.list_physical_devices('GPU'))>0\n",
    "print(\"GPU is\", \"available\" if gpu else \"NOT AVAILABLE\")"
   ]
  },
  {
   "cell_type": "code",
   "execution_count": null,
   "metadata": {},
   "outputs": [],
   "source": []
  },
  {
   "cell_type": "code",
   "execution_count": 6,
   "metadata": {},
   "outputs": [],
   "source": [
    "import tensorflow as tf\n",
    "#from tensorflow.python.compiler.mlcompute import micompute\n",
    "#tf.compat.vl.disable eager execution()\n",
    "#mlcompute.set mlc device(device name-' apu')\n",
    "#print (\"is apple mic enabled 8s\" & micompute.is apple mic enabled())\n",
    "#print(\"is tf compiled with apple mic 8s\" & micompute.is tf compiled with apple mic())\n",
    "#print (f\"eagerly? (tf.executing eagerly()}\")\n",
    "#print(tf.config.list logical devices ))\n",
    "from tensorflow.keras import datasets, layers, models\n",
    "(train_images, train_labels), (test_images, test_labels) = datasets.cifar10.load_data()\n",
    "train_images, test_images = train_images / 255.0, test_images / 255.0\n",
    "class_names = ['airplane',\n",
    "            'automobile',\n",
    "        \"bird\",\n",
    "        'cat',\n",
    "        \"dog\",\n",
    "        'frog', 'horse',\n",
    "        'ship',\n",
    "        \"truck\",\n",
    "        \"deer\"]\n"
   ]
  },
  {
   "cell_type": "code",
   "execution_count": 8,
   "metadata": {},
   "outputs": [
    {
     "name": "stderr",
     "output_type": "stream",
     "text": [
      "2022-07-19 15:53:50.485050: I tensorflow/compiler/mlir/mlir_graph_optimization_pass.cc:176] None of the MLIR Optimization Passes are enabled (registered 2)\n",
      "2022-07-19 15:53:50.487279: W tensorflow/core/platform/profile_utils/cpu_utils.cc:128] Failed to get CPU frequency: 0 Hz\n",
      "2022-07-19 15:53:50.682617: I tensorflow/core/grappler/optimizers/custom_graph_optimizer_registry.cc:112] Plugin optimizer for device_type GPU is enabled.\n"
     ]
    },
    {
     "name": "stdout",
     "output_type": "stream",
     "text": [
      "Epoch 1/10\n",
      "1563/1563 [==============================] - ETA: 0s - loss: 1.4969 - accuracy: 0.4539"
     ]
    },
    {
     "name": "stderr",
     "output_type": "stream",
     "text": [
      "2022-07-19 15:54:07.938946: I tensorflow/core/grappler/optimizers/custom_graph_optimizer_registry.cc:112] Plugin optimizer for device_type GPU is enabled.\n"
     ]
    },
    {
     "name": "stdout",
     "output_type": "stream",
     "text": [
      "1563/1563 [==============================] - 19s 10ms/step - loss: 1.4969 - accuracy: 0.4539 - val_loss: 1.2348 - val_accuracy: 0.5630\n",
      "Epoch 2/10\n",
      "1563/1563 [==============================] - 15s 9ms/step - loss: 1.1421 - accuracy: 0.5957 - val_loss: 1.0951 - val_accuracy: 0.6107\n",
      "Epoch 3/10\n",
      "1563/1563 [==============================] - 15s 10ms/step - loss: 0.9970 - accuracy: 0.6500 - val_loss: 0.9746 - val_accuracy: 0.6563\n",
      "Epoch 4/10\n",
      "1563/1563 [==============================] - 15s 9ms/step - loss: 0.8956 - accuracy: 0.6870 - val_loss: 0.9719 - val_accuracy: 0.6649\n",
      "Epoch 5/10\n",
      "1563/1563 [==============================] - 15s 9ms/step - loss: 0.8230 - accuracy: 0.7101 - val_loss: 0.9454 - val_accuracy: 0.6756\n",
      "Epoch 6/10\n",
      "1563/1563 [==============================] - 15s 9ms/step - loss: 0.7609 - accuracy: 0.7326 - val_loss: 0.8720 - val_accuracy: 0.7020\n",
      "Epoch 7/10\n",
      "1563/1563 [==============================] - 15s 9ms/step - loss: 0.7097 - accuracy: 0.7526 - val_loss: 0.8619 - val_accuracy: 0.7057\n",
      "Epoch 8/10\n",
      "1563/1563 [==============================] - 15s 10ms/step - loss: 0.6655 - accuracy: 0.7664 - val_loss: 0.8558 - val_accuracy: 0.7092\n",
      "Epoch 9/10\n",
      "1563/1563 [==============================] - 15s 9ms/step - loss: 0.6251 - accuracy: 0.7805 - val_loss: 0.8834 - val_accuracy: 0.7025\n",
      "Epoch 10/10\n",
      "1563/1563 [==============================] - 15s 9ms/step - loss: 0.5859 - accuracy: 0.7948 - val_loss: 0.8780 - val_accuracy: 0.7167\n"
     ]
    }
   ],
   "source": [
    "model = models.Sequential()\n",
    "model.add(layers.Conv2D(32, (3, 3), activation='relu', input_shape=(32, 32, 3)))\n",
    "model.add (layers.MaxPooling2D((2, 2)))\n",
    "model.add(layers.Conv2D(64, (3, 3), activation='relu'))\n",
    "model.add (layers.MaxPooling2D((2, 2)) )\n",
    "model.add(layers.Conv2D(64, (3, 3), activation='relu'))\n",
    "model.add(layers.Flatten())\n",
    "model.add (layers.Dense(64, activation='relu'))\n",
    "model.add (layers.Dense(10) )\n",
    "model.compile(optimizer='adam',\n",
    "                loss=tf.keras.losses.SparseCategoricalCrossentropy(from_logits=True),\n",
    "                metrics=['accuracy'])\n",
    "history = model.fit(train_images, train_labels, epochs=10,\n",
    "                    validation_data=(test_images, test_labels))"
   ]
  },
  {
   "cell_type": "code",
   "execution_count": null,
   "metadata": {},
   "outputs": [],
   "source": []
  }
 ],
 "metadata": {
  "anaconda-cloud": {},
  "kernelspec": {
   "display_name": "Python 3.9 (tensorflow)",
   "language": "python",
   "name": "tensorflow"
  },
  "language_info": {
   "codemirror_mode": {
    "name": "ipython",
    "version": 3
   },
   "file_extension": ".py",
   "mimetype": "text/x-python",
   "name": "python",
   "nbconvert_exporter": "python",
   "pygments_lexer": "ipython3",
   "version": "3.9.13"
  },
  "varInspector": {
   "cols": {
    "lenName": 16,
    "lenType": 16,
    "lenVar": 40
   },
   "kernels_config": {
    "python": {
     "delete_cmd_postfix": "",
     "delete_cmd_prefix": "del ",
     "library": "var_list.py",
     "varRefreshCmd": "print(var_dic_list())"
    },
    "r": {
     "delete_cmd_postfix": ") ",
     "delete_cmd_prefix": "rm(",
     "library": "var_list.r",
     "varRefreshCmd": "cat(var_dic_list()) "
    }
   },
   "types_to_exclude": [
    "module",
    "function",
    "builtin_function_or_method",
    "instance",
    "_Feature"
   ],
   "window_display": false
  }
 },
 "nbformat": 4,
 "nbformat_minor": 4
}
